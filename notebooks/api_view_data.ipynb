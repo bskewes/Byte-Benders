{
 "cells": [
  {
   "cell_type": "markdown",
   "metadata": {},
   "source": [
    "Take code from api_download.py"
   ]
  },
  {
   "cell_type": "code",
   "execution_count": 10,
   "metadata": {},
   "outputs": [
    {
     "data": {
      "text/plain": [
       "True"
      ]
     },
     "execution_count": 10,
     "metadata": {},
     "output_type": "execute_result"
    }
   ],
   "source": [
    "import os\n",
    "from dotenv import find_dotenv,load_dotenv\n",
    "import requests\n",
    "load_dotenv()"
   ]
  },
  {
   "cell_type": "code",
   "execution_count": 11,
   "metadata": {},
   "outputs": [
    {
     "name": "stdout",
     "output_type": "stream",
     "text": [
      "<Response [200]>\n",
      "<Response [500]>\n"
     ]
    }
   ],
   "source": [
    "cert_path = os.getenv(\"CERT_PATH\", True) # True forces full verification\n",
    "api_key = os.getenv(\"API_KEY\")\n",
    "\n",
    "BASE = \"https://api.transport.nsw.gov.au/\"\n",
    "METRO_STATIC = f\"{BASE}v1/gtfs/schedule/metro\"\n",
    "METRO_REALTIME = f\"{BASE}v1/gtfs/v1/gtfs/historical\"\n",
    "\n",
    "headers = {\n",
    "    \"Authorization\":f\"apikey {api_key}\"\n",
    "}\n",
    "request_details = dict(\n",
    "    headers = headers,\n",
    "    stream=True\n",
    ")\n",
    "\n",
    "request_details['verify'] = cert_path\n",
    "\n",
    "response_static = requests.get(METRO_STATIC,**request_details)\n",
    "print(response_static)\n",
    "response_realtime = requests.get(METRO_REALTIME,**request_details)\n",
    "print(response_realtime)\n"
   ]
  },
  {
   "cell_type": "code",
   "execution_count": null,
   "metadata": {},
   "outputs": [],
   "source": [
    "with open(zip_path, \"wb\") as f:\n",
    "    f.write(response_static.content)"
   ]
  }
 ],
 "metadata": {
  "kernelspec": {
   "display_name": ".venv",
   "language": "python",
   "name": "python3"
  },
  "language_info": {
   "codemirror_mode": {
    "name": "ipython",
    "version": 3
   },
   "file_extension": ".py",
   "mimetype": "text/x-python",
   "name": "python",
   "nbconvert_exporter": "python",
   "pygments_lexer": "ipython3",
   "version": "3.10.3"
  }
 },
 "nbformat": 4,
 "nbformat_minor": 2
}
