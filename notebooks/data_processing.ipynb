{
 "cells": [
  {
   "cell_type": "code",
   "execution_count": 9,
   "metadata": {},
   "outputs": [
    {
     "data": {
      "text/plain": [
       "[WindowsPath('C:/Users/lng2/Workings/python_training/sample_data/Historical GTFS and GTFS Realtime - Metro/TripUpdate_20220601.csv'),\n",
       " WindowsPath('C:/Users/lng2/Workings/python_training/sample_data/Historical GTFS and GTFS Realtime - Metro/TripUpdate_20230601.csv'),\n",
       " WindowsPath('C:/Users/lng2/Workings/python_training/sample_data/Historical GTFS and GTFS Realtime - Metro/VehiclePosition_20220601.csv'),\n",
       " WindowsPath('C:/Users/lng2/Workings/python_training/sample_data/Historical GTFS and GTFS Realtime - Metro/VehiclePosition_20230819.csv'),\n",
       " WindowsPath('C:/Users/lng2/Workings/python_training/sample_data/Historical GTFS and GTFS Realtime - Metro/VehiclePosition_20230820.csv')]"
      ]
     },
     "execution_count": 9,
     "metadata": {},
     "output_type": "execute_result"
    }
   ],
   "source": [
    "import pandas as pd\n",
    "from pathlib import Path\n",
    "from dotenv import load_dotenv\n",
    "\n",
    "import os\n",
    "\n",
    "load_dotenv(override=True)\n",
    "\n"
   ]
  },
  {
   "cell_type": "code",
   "execution_count": 10,
   "metadata": {},
   "outputs": [],
   "source": [
    "sample_data_path = Path(os.getenv(\"DATA_PATH\")) / 'Historical GTFS and GTFS Realtime - Metro'\n",
    "\n",
    "[f for f in sample_data_path.glob(\"*.csv\")]\n",
    "\n",
    "sample_data = pd.read_csv(sample_data_path / 'TripUpdate_20220601.csv')\n"
   ]
  }
 ],
 "metadata": {
  "kernelspec": {
   "display_name": "byte-benders",
   "language": "python",
   "name": "python3"
  },
  "language_info": {
   "codemirror_mode": {
    "name": "ipython",
    "version": 3
   },
   "file_extension": ".py",
   "mimetype": "text/x-python",
   "name": "python",
   "nbconvert_exporter": "python",
   "pygments_lexer": "ipython3",
   "version": "3.9.13"
  }
 },
 "nbformat": 4,
 "nbformat_minor": 2
}
