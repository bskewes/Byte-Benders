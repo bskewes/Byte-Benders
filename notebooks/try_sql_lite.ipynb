{
 "cells": [
  {
   "cell_type": "markdown",
   "metadata": {},
   "source": [
    "<h2>Load packages and environment variables</h2>"
   ]
  },
  {
   "cell_type": "code",
   "execution_count": 16,
   "metadata": {},
   "outputs": [
    {
     "data": {
      "text/plain": [
       "True"
      ]
     },
     "execution_count": 16,
     "metadata": {},
     "output_type": "execute_result"
    }
   ],
   "source": [
    "import pandas as pd\n",
    "import plotly.express as px\n",
    "import plotly.graph_objects as go\n",
    "\n",
    "from pathlib import Path\n",
    "from dotenv import load_dotenv\n",
    "import pytz\n",
    "\n",
    "import os\n",
    "\n",
    "load_dotenv(override=True)\n"
   ]
  },
  {
   "cell_type": "markdown",
   "metadata": {},
   "source": [
    "<h2>Load data path</h2>"
   ]
  },
  {
   "cell_type": "code",
   "execution_count": 17,
   "metadata": {},
   "outputs": [
    {
     "data": {
      "text/plain": [
       "[WindowsPath('C:/Users/lng2/Workings/python_training/sample_data/Historical GTFS and GTFS Realtime - Metro/TripUpdate_20220601.csv'),\n",
       " WindowsPath('C:/Users/lng2/Workings/python_training/sample_data/Historical GTFS and GTFS Realtime - Metro/TripUpdate_20230601.csv'),\n",
       " WindowsPath('C:/Users/lng2/Workings/python_training/sample_data/Historical GTFS and GTFS Realtime - Metro/VehiclePosition_20220601.csv'),\n",
       " WindowsPath('C:/Users/lng2/Workings/python_training/sample_data/Historical GTFS and GTFS Realtime - Metro/VehiclePosition_20230819.csv'),\n",
       " WindowsPath('C:/Users/lng2/Workings/python_training/sample_data/Historical GTFS and GTFS Realtime - Metro/VehiclePosition_20230820.csv')]"
      ]
     },
     "execution_count": 17,
     "metadata": {},
     "output_type": "execute_result"
    }
   ],
   "source": [
    "sample_realtime_data_path = Path(os.getenv(\"DATA_PATH\")) / 'Historical GTFS and GTFS Realtime - Metro'\n",
    "sample_static_data_path = Path(os.getenv(\"DATA_PATH\")) / 'Timetables Complete GTFS'\n",
    "\n",
    "[f for f in sample_realtime_data_path.glob(\"*.csv\")]\n"
   ]
  },
  {
   "cell_type": "code",
   "execution_count": 18,
   "metadata": {},
   "outputs": [],
   "source": [
    "df_trip = pd.read_csv(sample_realtime_data_path / 'TripUpdate_20220601.csv')\n",
    "df_stop = pd.read_csv(sample_static_data_path / 'stops.txt')\n"
   ]
  },
  {
   "cell_type": "markdown",
   "metadata": {},
   "source": [
    "<h2>Set up SQL Database</h2>"
   ]
  },
  {
   "cell_type": "code",
   "execution_count": 26,
   "metadata": {},
   "outputs": [],
   "source": [
    "from sqlalchemy import create_engine, select, Table, MetaData\n",
    "from sqlalchemy.orm import sessionmaker\n",
    "\n",
    "con_str = os.getenv(\"SQLDRIVER\")\n",
    "engine = create_engine(con_str)\n",
    "Session = sessionmaker(engine)\n"
   ]
  },
  {
   "cell_type": "markdown",
   "metadata": {},
   "source": [
    "<h2> Read in data into SQL Database </h2>"
   ]
  },
  {
   "cell_type": "code",
   "execution_count": 20,
   "metadata": {},
   "outputs": [
    {
     "data": {
      "text/plain": [
       "2632513"
      ]
     },
     "execution_count": 20,
     "metadata": {},
     "output_type": "execute_result"
    }
   ],
   "source": [
    "df_trip.to_sql('trip', engine, if_exists=\"replace\", index=False, chunksize=20000)\n"
   ]
  },
  {
   "cell_type": "code",
   "execution_count": 21,
   "metadata": {},
   "outputs": [
    {
     "data": {
      "text/plain": [
       "116702"
      ]
     },
     "execution_count": 21,
     "metadata": {},
     "output_type": "execute_result"
    }
   ],
   "source": [
    "df_stop.to_sql('stop', engine, if_exists=\"replace\", index=False)\n"
   ]
  },
  {
   "cell_type": "code",
   "execution_count": 22,
   "metadata": {},
   "outputs": [
    {
     "name": "stdout",
     "output_type": "stream",
     "text": [
      "[(2632513, 27), (2632513, 27)]\n"
     ]
    }
   ],
   "source": [
    "df_trip_in_sql = pd.read_sql('trip', engine)\n",
    "\n",
    "print([df_trip_in_sql.shape, df_trip.shape])\n"
   ]
  },
  {
   "cell_type": "code",
   "execution_count": 23,
   "metadata": {},
   "outputs": [
    {
     "name": "stdout",
     "output_type": "stream",
     "text": [
      "[(116702, 10), (116702, 10)]\n"
     ]
    }
   ],
   "source": [
    "df_stop_in_sql = pd.read_sql('stop', engine)\n",
    "\n",
    "print([df_stop_in_sql.shape, df_stop.shape])\n"
   ]
  },
  {
   "cell_type": "markdown",
   "metadata": {},
   "source": [
    "<h2>Run queries directly on SQL Lite</h2>"
   ]
  },
  {
   "cell_type": "code",
   "execution_count": 36,
   "metadata": {},
   "outputs": [
    {
     "data": {
      "text/html": [
       "<div>\n",
       "<style scoped>\n",
       "    .dataframe tbody tr th:only-of-type {\n",
       "        vertical-align: middle;\n",
       "    }\n",
       "\n",
       "    .dataframe tbody tr th {\n",
       "        vertical-align: top;\n",
       "    }\n",
       "\n",
       "    .dataframe thead th {\n",
       "        text-align: right;\n",
       "    }\n",
       "</style>\n",
       "<table border=\"1\" class=\"dataframe\">\n",
       "  <thead>\n",
       "    <tr style=\"text-align: right;\">\n",
       "      <th></th>\n",
       "      <th>stop_id</th>\n",
       "      <th>stop_name</th>\n",
       "    </tr>\n",
       "  </thead>\n",
       "  <tbody>\n",
       "    <tr>\n",
       "      <th>0</th>\n",
       "      <td>2155269</td>\n",
       "      <td>Tallawong Station, Platform 2</td>\n",
       "    </tr>\n",
       "  </tbody>\n",
       "</table>\n",
       "</div>"
      ],
      "text/plain": [
       "   stop_id                      stop_name\n",
       "0  2155269  Tallawong Station, Platform 2"
      ]
     },
     "execution_count": 36,
     "metadata": {},
     "output_type": "execute_result"
    }
   ],
   "source": [
    "metadata = MetaData()\n",
    "\n",
    "stop_in_sql = Table('stop', metadata, autoload_with = engine)\n",
    "\n",
    "with Session() as session:\n",
    "    stmt = select(stop_in_sql.columns.stop_id, stop_in_sql.columns.stop_name).where(stop_in_sql.columns.stop_id == 2155269)\n",
    "    df_stop_in_sql_filtered = pd.DataFrame(session.execute(stmt).all())\n",
    "\n",
    "df_stop_in_sql_filtered\n"
   ]
  }
 ],
 "metadata": {
  "kernelspec": {
   "display_name": "byte-benders",
   "language": "python",
   "name": "python3"
  },
  "language_info": {
   "codemirror_mode": {
    "name": "ipython",
    "version": 3
   },
   "file_extension": ".py",
   "mimetype": "text/x-python",
   "name": "python",
   "nbconvert_exporter": "python",
   "pygments_lexer": "ipython3",
   "version": "3.9.13"
  }
 },
 "nbformat": 4,
 "nbformat_minor": 2
}
